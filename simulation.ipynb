{
 "cells": [
  {
   "cell_type": "markdown",
   "id": "02eecdff",
   "metadata": {},
   "source": [
    "### Running simulations in python!\n",
    "    Process\n",
    "    Represent the data\n",
    "    Create a matrix of random numbers to show simulations\n",
    "    Determine the result of each simulation\n",
    "    Get our experimental probability based on the results\n",
    "## What's the probability of rolling a 2 on a 6-sided die?"
   ]
  },
  {
   "cell_type": "code",
   "execution_count": 3,
   "id": "feb5745b",
   "metadata": {},
   "outputs": [],
   "source": [
    "import numpy as np\n",
    "import pandas as pd"
   ]
  },
  {
   "cell_type": "code",
   "execution_count": 2,
   "id": "24c17605",
   "metadata": {},
   "outputs": [],
   "source": [
    "# define possible dice outcomes\n",
    "outcomes = [1,2,3,4,5,6]\n",
    "\n",
    "# define number of simulations\n",
    "n_simulations = 10"
   ]
  },
  {
   "cell_type": "code",
   "execution_count": 3,
   "id": "ebf38320",
   "metadata": {},
   "outputs": [
    {
     "data": {
      "text/plain": [
       "array([6, 3, 4, 5, 4, 6, 3, 4, 4, 2])"
      ]
     },
     "execution_count": 3,
     "metadata": {},
     "output_type": "execute_result"
    }
   ],
   "source": [
    "#create matrix using our data for this problem\n",
    "dice_rolls = np.random.choice(outcomes, n_simulations)\n",
    "dice_rolls"
   ]
  },
  {
   "cell_type": "code",
   "execution_count": 4,
   "id": "9e0f8bd7",
   "metadata": {},
   "outputs": [
    {
     "data": {
      "text/plain": [
       "array([False, False, False, False, False, False, False, False, False,\n",
       "        True])"
      ]
     },
     "execution_count": 4,
     "metadata": {},
     "output_type": "execute_result"
    }
   ],
   "source": [
    "dice_rolls == 2"
   ]
  },
  {
   "cell_type": "code",
   "execution_count": 5,
   "id": "5ad78fb0",
   "metadata": {},
   "outputs": [
    {
     "data": {
      "text/plain": [
       "1"
      ]
     },
     "execution_count": 5,
     "metadata": {},
     "output_type": "execute_result"
    }
   ],
   "source": [
    "#count all the rolls that equal to 2\n",
    "(dice_rolls == 2).sum()"
   ]
  },
  {
   "cell_type": "code",
   "execution_count": 6,
   "id": "f146e302",
   "metadata": {},
   "outputs": [
    {
     "data": {
      "text/plain": [
       "0.1"
      ]
     },
     "execution_count": 6,
     "metadata": {},
     "output_type": "execute_result"
    }
   ],
   "source": [
    "#total number of Trues diveded by total rolls\n",
    "(dice_rolls == 2).sum() / len(dice_rolls)"
   ]
  },
  {
   "cell_type": "code",
   "execution_count": 7,
   "id": "acaf30ce",
   "metadata": {},
   "outputs": [
    {
     "name": "stdout",
     "output_type": "stream",
     "text": [
      "[6 3 4 ... 4 3 4]\n"
     ]
    },
    {
     "data": {
      "text/plain": [
       "0.16732"
      ]
     },
     "execution_count": 7,
     "metadata": {},
     "output_type": "execute_result"
    }
   ],
   "source": [
    "# define possible dice outcomes\n",
    "outcomes = [1,2,3,4,5,6]\n",
    "\n",
    "# define number of simulations\n",
    "n_simulations = 100_000\n",
    "\n",
    "#create matrix using our data for this problem\n",
    "dice_rolls = np.random.choice(outcomes, n_simulations)\n",
    "print(dice_rolls)\n",
    "\n",
    "#take the average of boolean array \n",
    "(dice_rolls == 2).mean()"
   ]
  },
  {
   "cell_type": "markdown",
   "id": "b29fee07",
   "metadata": {},
   "source": [
    "### How likely is it that you roll doubles when rolling two dice?"
   ]
  },
  {
   "cell_type": "code",
   "execution_count": 6,
   "id": "3caa12fe",
   "metadata": {},
   "outputs": [],
   "source": [
    "#outcomes\n",
    "outcomes = [1,2,3,4,5,6]\n",
    "\n",
    "#simulations & trials\n",
    "n_trials = 2 #two dice\n",
    "n_simulations = 100_000 #how many times we're rolling the dice"
   ]
  },
  {
   "cell_type": "code",
   "execution_count": 7,
   "id": "515bb24b",
   "metadata": {
    "scrolled": true
   },
   "outputs": [
    {
     "data": {
      "text/plain": [
       "array([[6, 1],\n",
       "       [6, 2],\n",
       "       [6, 1],\n",
       "       ...,\n",
       "       [2, 3],\n",
       "       [3, 5],\n",
       "       [2, 1]])"
      ]
     },
     "execution_count": 7,
     "metadata": {},
     "output_type": "execute_result"
    }
   ],
   "source": [
    "#set up number of simulations and number of dice rolls\n",
    "two_dice_rolls = np.random.choice(outcomes, (n_simulations, n_trials))\n",
    "two_dice_rolls"
   ]
  },
  {
   "cell_type": "code",
   "execution_count": 8,
   "id": "c0b9cce4",
   "metadata": {},
   "outputs": [
    {
     "data": {
      "text/plain": [
       "(100000, 2)"
      ]
     },
     "execution_count": 8,
     "metadata": {},
     "output_type": "execute_result"
    }
   ],
   "source": [
    "two_dice_rolls.shape"
   ]
  },
  {
   "cell_type": "markdown",
   "id": "5dca5104",
   "metadata": {},
   "source": [
    "    we have 100000 simulations, so we have 100000 rows\n",
    "    we have 2 dice rolls per simulation, so we have 2 columns in each row"
   ]
  },
  {
   "cell_type": "code",
   "execution_count": 9,
   "id": "ef1f42e6",
   "metadata": {},
   "outputs": [
    {
     "data": {
      "text/plain": [
       "array([[6, 1],\n",
       "       [6, 2],\n",
       "       [6, 1],\n",
       "       ...,\n",
       "       [2, 3],\n",
       "       [3, 5],\n",
       "       [2, 1]])"
      ]
     },
     "execution_count": 9,
     "metadata": {},
     "output_type": "execute_result"
    }
   ],
   "source": [
    "two_dice_rolls"
   ]
  },
  {
   "cell_type": "code",
   "execution_count": 17,
   "id": "b8b5bec8",
   "metadata": {},
   "outputs": [
    {
     "data": {
      "text/plain": [
       "array([[False, False],\n",
       "       [False,  True],\n",
       "       [False, False],\n",
       "       ...,\n",
       "       [ True, False],\n",
       "       [False, False],\n",
       "       [ True, False]])"
      ]
     },
     "execution_count": 17,
     "metadata": {},
     "output_type": "execute_result"
    }
   ],
   "source": [
    "(two_dice_rolls == (2,2))"
   ]
  },
  {
   "cell_type": "code",
   "execution_count": 18,
   "id": "0ef401b3",
   "metadata": {},
   "outputs": [
    {
     "data": {
      "text/plain": [
       "array([0, 1, 0, ..., 1, 0, 1])"
      ]
     },
     "execution_count": 18,
     "metadata": {},
     "output_type": "execute_result"
    }
   ],
   "source": [
    "#be sure to sum across each simulation aka across each row (axis=1)\n",
    "roll_counts = (two_dice_rolls == (2,2)).sum(axis=1)\n",
    "roll_counts"
   ]
  },
  {
   "cell_type": "markdown",
   "id": "114de7e3",
   "metadata": {},
   "source": [
    "    this 1-d array shows how many rolls appeared in each simulations\n",
    "    we want to know how many times we have 2 or more rolls, so lets convert that to a boolean array when our roll count is 2."
   ]
  },
  {
   "cell_type": "code",
   "execution_count": 23,
   "id": "29a06487",
   "metadata": {},
   "outputs": [
    {
     "data": {
      "text/plain": [
       "array([False, False, False, ..., False, False, False])"
      ]
     },
     "execution_count": 23,
     "metadata": {},
     "output_type": "execute_result"
    }
   ],
   "source": [
    "roll_counts == 2"
   ]
  },
  {
   "cell_type": "code",
   "execution_count": 24,
   "id": "b25a8e96",
   "metadata": {},
   "outputs": [
    {
     "data": {
      "text/plain": [
       "0.02789"
      ]
     },
     "execution_count": 24,
     "metadata": {},
     "output_type": "execute_result"
    }
   ],
   "source": [
    "(roll_counts == 2).mean()"
   ]
  },
  {
   "cell_type": "code",
   "execution_count": 27,
   "id": "64d6b8f8",
   "metadata": {},
   "outputs": [
    {
     "data": {
      "text/plain": [
       "array([[4, 1],\n",
       "       [5, 6],\n",
       "       [5, 4],\n",
       "       ...,\n",
       "       [1, 4],\n",
       "       [1, 5],\n",
       "       [4, 6]])"
      ]
     },
     "execution_count": 27,
     "metadata": {},
     "output_type": "execute_result"
    }
   ],
   "source": [
    "# define possible dice outcomes\n",
    "outcomes = [1,2,3,4,5,6]\n",
    "\n",
    "# define number of simulations\n",
    "n_trials = 2 #two dice\n",
    "n_simulations = 100_000\n",
    "\n",
    "#create matrix using our data for this problem\n",
    "dice_rolls = np.random.choice(outcomes, (n_simulations, n_trials))\n",
    "# print(dice_rolls)\n",
    "dice_rolls\n"
   ]
  },
  {
   "cell_type": "code",
   "execution_count": 34,
   "id": "864c48ef",
   "metadata": {},
   "outputs": [
    {
     "ename": "SyntaxError",
     "evalue": "invalid syntax (2447421266.py, line 2)",
     "output_type": "error",
     "traceback": [
      "\u001b[0;36m  Input \u001b[0;32mIn [34]\u001b[0;36m\u001b[0m\n\u001b[0;31m    dice_rolls = (;0)\u001b[0m\n\u001b[0m                  ^\u001b[0m\n\u001b[0;31mSyntaxError\u001b[0m\u001b[0;31m:\u001b[0m invalid syntax\n"
     ]
    }
   ],
   "source": [
    "#take the average of boolean array \n",
    "dice_rolls = (0)\n",
    "dice_rolls"
   ]
  },
  {
   "cell_type": "code",
   "execution_count": null,
   "id": "7bfe5e79",
   "metadata": {},
   "outputs": [],
   "source": [
    "dice_rolls(2:)"
   ]
  }
 ],
 "metadata": {
  "kernelspec": {
   "display_name": "Python 3 (ipykernel)",
   "language": "python",
   "name": "python3"
  },
  "language_info": {
   "codemirror_mode": {
    "name": "ipython",
    "version": 3
   },
   "file_extension": ".py",
   "mimetype": "text/x-python",
   "name": "python",
   "nbconvert_exporter": "python",
   "pygments_lexer": "ipython3",
   "version": "3.9.13"
  }
 },
 "nbformat": 4,
 "nbformat_minor": 5
}
