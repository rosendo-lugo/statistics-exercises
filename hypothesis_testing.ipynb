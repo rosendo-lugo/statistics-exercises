{
 "cells": [
  {
   "cell_type": "markdown",
   "id": "9bc803d3",
   "metadata": {},
   "source": [
    "# Overview"
   ]
  },
  {
   "cell_type": "markdown",
   "id": "4a01a327",
   "metadata": {},
   "source": [
    "### Do your work for this exercise in a jupyter notebook named hypothesis_testing.ipynb.\n",
    "\n",
    "For each of the following questions, formulate a null and alternative hypothesis (be as specific as you can be), then give an example of what a true positive, true negative, type I and type II errors would look like. Note that some of the questions are intentionally phrased in a vague way. It is your job to reword these as more precise questions that could be tested.\n",
    "\n"
   ]
  },
  {
   "cell_type": "markdown",
   "id": "fbdf70a4",
   "metadata": {},
   "source": [
    "Has the network latency gone up since we switched internet service providers?\n"
   ]
  },
  {
   "cell_type": "markdown",
   "id": "566a98e5",
   "metadata": {},
   "source": [
    "Null Hypothesis (H0): The new internet service provider has no effect in the network's latency increase\n",
    "Alternative Hypothesis (Ha): The new internet service provider has effect the network's latency increase\n",
    "    \n",
    "                            Lantency Exists   Lantency doesn't exist\n",
    "Lantency was observed      # True positve   / # Type II error\n",
    "\n",
    "Lantency was not observed  # Type I error   / # True negative\n",
    "\n",
    "\n",
    "True Positive: If the study correctly detects that the new internet service provider has increased the network's latency, it would be a true positive.\n",
    "\n",
    "True Negative: If the study correctly concludes that the new internet service provider has no effect on the network's latency, it would be a true negative.\n",
    "\n",
    "Type I Error: If the study concludes that the new internet service provider has increased the network's latency when it actually hasn't, it would be a type I error. This is also known as a false positive.\n",
    "\n",
    "Type II Error: If the study concludes that the new internet service provider has no effect on the network's latency when it actually has, it would be a type II error. This is also known as a false negative.\n",
    "\n"
   ]
  },
  {
   "cell_type": "markdown",
   "id": "2d529139",
   "metadata": {},
   "source": [
    "Is the website redesign any good?\n"
   ]
  },
  {
   "cell_type": "code",
   "execution_count": null,
   "id": "eeecee3d",
   "metadata": {},
   "outputs": [],
   "source": [
    "Null Hypothesis (H0): There is no difference in the popularity of the redesign website compare to the old one. \n",
    "Alternative Hypothesis (Ha): There is a diference in popularity of the redesign website compare to the old one.\n",
    "\n",
    "    \n",
    "                              Popularity Exists   Popularity doesn't exist\n",
    "difference was observed       # True positve     / # Type II error\n",
    "\n",
    "difference was not observed   # Type I error     / # True negative"
   ]
  },
  {
   "cell_type": "markdown",
   "id": "e49568ca",
   "metadata": {},
   "source": [
    "Is our television ad driving more sales?"
   ]
  },
  {
   "cell_type": "code",
   "execution_count": null,
   "id": "b6ef7d6e",
   "metadata": {},
   "outputs": [],
   "source": [
    "Null Hypothesis (H0): The television ad is not driving more sales\n",
    "Alternative Hypothesis (Ha): The television as is driving more sales\n",
    "\n",
    "                                    More Sales Exists   More Sales don't exist\n",
    "ad increased sales was observed      # True positve       / # Type II error\n",
    "\n",
    "No increase in sales observed        # Type I error       / # True negative"
   ]
  },
  {
   "cell_type": "markdown",
   "id": "2892d8d5",
   "metadata": {},
   "source": [
    "# Comparison of Means"
   ]
  },
  {
   "cell_type": "markdown",
   "id": "419acbc0",
   "metadata": {},
   "source": [
    "\n",
    "### 1. Answer with the type of test you would use (assume normal distribution):"
   ]
  },
  {
   "cell_type": "markdown",
   "id": "cab5b4b5",
   "metadata": {},
   "source": [
    "    Is there a difference in grades of students on the second floor compared to grades of all students?"
   ]
  },
  {
   "cell_type": "markdown",
   "id": "ad5b59eb",
   "metadata": {},
   "source": [
    "        * One sample test / two tails"
   ]
  },
  {
   "cell_type": "markdown",
   "id": "75d81962",
   "metadata": {},
   "source": [
    "    Are adults who drink milk taller than adults who dont drink milk?\n"
   ]
  },
  {
   "cell_type": "markdown",
   "id": "673c4a9a",
   "metadata": {},
   "source": [
    "        * Independent t-test (two sample) / one tail "
   ]
  },
  {
   "cell_type": "markdown",
   "id": "c5be69b0",
   "metadata": {},
   "source": [
    "    Is the the price of gas higher in texas or in new mexico?"
   ]
  },
  {
   "cell_type": "markdown",
   "id": "29356d40",
   "metadata": {},
   "source": [
    "        * Independent t-test (two sample) / one tail"
   ]
  },
  {
   "cell_type": "markdown",
   "id": "80953ca0",
   "metadata": {},
   "source": [
    "    Are there differences in stress levels between students who take data science vs students who take web development vs students who take cloud academy?"
   ]
  },
  {
   "cell_type": "markdown",
   "id": "77ecbcde",
   "metadata": {},
   "source": [
    "        * ANOVA / two tail"
   ]
  },
  {
   "cell_type": "markdown",
   "id": "4fe64d21",
   "metadata": {},
   "source": [
    "### 2. Ace Realty wants to determine whether the average time it takes to sell homes is different for its two offices. \n",
    "    A sample of 40 sales from office #1 revealed a mean of 90 days and a standard deviation of 15 days.\n",
    "    \n",
    "    A sample of 50 sales from office #2 revealed a mean of 100 days and a standard deviation of 20 days. \n",
    "    \n",
    "    Use a .05 level of significance."
   ]
  },
  {
   "cell_type": "code",
   "execution_count": 75,
   "id": "0da583b4",
   "metadata": {},
   "outputs": [],
   "source": [
    "import sys\n",
    "sys.path.append('../../codeup-data-science') #setting path to env\n",
    "import pandas as pd\n",
    "import matplotlib.pyplot as plt\n",
    "import scipy.stats as stats\n",
    "import seaborn as sns\n",
    "import numpy as np\n",
    "from pydataset import data"
   ]
  },
  {
   "cell_type": "code",
   "execution_count": 76,
   "id": "75b004f0",
   "metadata": {},
   "outputs": [],
   "source": [
    "from env import get_db_url"
   ]
  },
  {
   "cell_type": "code",
   "execution_count": 135,
   "id": "da2f3e15",
   "metadata": {},
   "outputs": [],
   "source": [
    "office_one_sample_size = 40\n",
    "office_one_mean = 90\n",
    "office_one_sd = 15\n",
    "office_two_sample_size = 50\n",
    "office_two_mean = 100\n",
    "office_two_sd = 20\n",
    "a = .05"
   ]
  },
  {
   "cell_type": "markdown",
   "id": "90117633",
   "metadata": {},
   "source": [
    "$H_{0}$ : There is no difference in the average time it takes to sell homes between office #1 and #2. \n",
    "\n",
    "$H_{a}$ : There is difference in the average time it takes to sell homes between office #1 and #2. "
   ]
  },
  {
   "cell_type": "code",
   "execution_count": 55,
   "id": "cb39f90d",
   "metadata": {
    "scrolled": true
   },
   "outputs": [
    {
     "data": {
      "text/plain": [
       "array([ 1.52596213, -0.71118935, -0.78427346,  0.48064107,  0.30401681,\n",
       "        1.5703471 ,  1.76567214,  1.46005511, -0.78059128,  0.15471366,\n",
       "        1.28677411,  0.20049968, -0.60319256,  1.11342397, -0.54461885,\n",
       "        0.24214361,  1.23928671,  1.18551784, -1.07595266,  0.59029646,\n",
       "       -0.68512343, -0.37834702,  0.64755737,  0.36138252,  0.88012356,\n",
       "        0.26752768,  0.28033343, -0.298714  ,  1.26906243,  1.7268891 ,\n",
       "       -0.95174076,  0.22867613,  0.51793496,  0.93593426, -0.52388025,\n",
       "        0.15265105, -1.20743529, -0.22700243,  0.73250431,  0.46476425])"
      ]
     },
     "execution_count": 55,
     "metadata": {},
     "output_type": "execute_result"
    }
   ],
   "source": [
    "# office_one_sample = 40\n",
    "office_one_rnd_sample = np.random.normal(0, 1, office_one_sample_size)\n",
    "office_one_rnd_sample"
   ]
  },
  {
   "cell_type": "code",
   "execution_count": 56,
   "id": "7ba8316c",
   "metadata": {
    "scrolled": false
   },
   "outputs": [
    {
     "data": {
      "text/plain": [
       "array([152.33659145, -49.00704107, -55.58461122,  58.25769653,\n",
       "        42.36151315, 156.33123876, 173.91049223, 146.40495958,\n",
       "       -55.25321563,  28.92422981, 130.80966978,  33.04497154,\n",
       "       -39.28733075, 115.20815731, -34.01569642,  36.79292528,\n",
       "       126.53580431, 121.69660572, -81.83573938,  68.12668166,\n",
       "       -46.66110877, -19.05123204,  73.2801635 ,  47.52442656,\n",
       "        94.2111207 ,  39.07749106,  40.23000859, -11.88425982,\n",
       "       129.21561849, 170.4200193 , -70.65666875,  35.58085198,\n",
       "        61.61414674,  99.23408317, -32.14922218,  28.73859406,\n",
       "       -93.66917565,  -5.4302184 ,  80.9253881 ,  56.82878253])"
      ]
     },
     "execution_count": 56,
     "metadata": {},
     "output_type": "execute_result"
    }
   ],
   "source": [
    "office_one_sample = office_one_rnd_sample * office_one_mean + office_one_sd\n",
    "office_one_sample"
   ]
  },
  {
   "cell_type": "code",
   "execution_count": 57,
   "id": "a7dcd221",
   "metadata": {},
   "outputs": [
    {
     "data": {
      "text/html": [
       "<div>\n",
       "<style scoped>\n",
       "    .dataframe tbody tr th:only-of-type {\n",
       "        vertical-align: middle;\n",
       "    }\n",
       "\n",
       "    .dataframe tbody tr th {\n",
       "        vertical-align: top;\n",
       "    }\n",
       "\n",
       "    .dataframe thead th {\n",
       "        text-align: right;\n",
       "    }\n",
       "</style>\n",
       "<table border=\"1\" class=\"dataframe\">\n",
       "  <thead>\n",
       "    <tr style=\"text-align: right;\">\n",
       "      <th></th>\n",
       "      <th>0</th>\n",
       "    </tr>\n",
       "  </thead>\n",
       "  <tbody>\n",
       "    <tr>\n",
       "      <th>0</th>\n",
       "      <td>152.336591</td>\n",
       "    </tr>\n",
       "    <tr>\n",
       "      <th>1</th>\n",
       "      <td>-49.007041</td>\n",
       "    </tr>\n",
       "    <tr>\n",
       "      <th>2</th>\n",
       "      <td>-55.584611</td>\n",
       "    </tr>\n",
       "    <tr>\n",
       "      <th>3</th>\n",
       "      <td>58.257697</td>\n",
       "    </tr>\n",
       "    <tr>\n",
       "      <th>4</th>\n",
       "      <td>42.361513</td>\n",
       "    </tr>\n",
       "    <tr>\n",
       "      <th>5</th>\n",
       "      <td>156.331239</td>\n",
       "    </tr>\n",
       "    <tr>\n",
       "      <th>6</th>\n",
       "      <td>173.910492</td>\n",
       "    </tr>\n",
       "    <tr>\n",
       "      <th>7</th>\n",
       "      <td>146.404960</td>\n",
       "    </tr>\n",
       "    <tr>\n",
       "      <th>8</th>\n",
       "      <td>-55.253216</td>\n",
       "    </tr>\n",
       "    <tr>\n",
       "      <th>9</th>\n",
       "      <td>28.924230</td>\n",
       "    </tr>\n",
       "    <tr>\n",
       "      <th>10</th>\n",
       "      <td>130.809670</td>\n",
       "    </tr>\n",
       "    <tr>\n",
       "      <th>11</th>\n",
       "      <td>33.044972</td>\n",
       "    </tr>\n",
       "    <tr>\n",
       "      <th>12</th>\n",
       "      <td>-39.287331</td>\n",
       "    </tr>\n",
       "    <tr>\n",
       "      <th>13</th>\n",
       "      <td>115.208157</td>\n",
       "    </tr>\n",
       "    <tr>\n",
       "      <th>14</th>\n",
       "      <td>-34.015696</td>\n",
       "    </tr>\n",
       "    <tr>\n",
       "      <th>15</th>\n",
       "      <td>36.792925</td>\n",
       "    </tr>\n",
       "    <tr>\n",
       "      <th>16</th>\n",
       "      <td>126.535804</td>\n",
       "    </tr>\n",
       "    <tr>\n",
       "      <th>17</th>\n",
       "      <td>121.696606</td>\n",
       "    </tr>\n",
       "    <tr>\n",
       "      <th>18</th>\n",
       "      <td>-81.835739</td>\n",
       "    </tr>\n",
       "    <tr>\n",
       "      <th>19</th>\n",
       "      <td>68.126682</td>\n",
       "    </tr>\n",
       "    <tr>\n",
       "      <th>20</th>\n",
       "      <td>-46.661109</td>\n",
       "    </tr>\n",
       "    <tr>\n",
       "      <th>21</th>\n",
       "      <td>-19.051232</td>\n",
       "    </tr>\n",
       "    <tr>\n",
       "      <th>22</th>\n",
       "      <td>73.280164</td>\n",
       "    </tr>\n",
       "    <tr>\n",
       "      <th>23</th>\n",
       "      <td>47.524427</td>\n",
       "    </tr>\n",
       "    <tr>\n",
       "      <th>24</th>\n",
       "      <td>94.211121</td>\n",
       "    </tr>\n",
       "    <tr>\n",
       "      <th>25</th>\n",
       "      <td>39.077491</td>\n",
       "    </tr>\n",
       "    <tr>\n",
       "      <th>26</th>\n",
       "      <td>40.230009</td>\n",
       "    </tr>\n",
       "    <tr>\n",
       "      <th>27</th>\n",
       "      <td>-11.884260</td>\n",
       "    </tr>\n",
       "    <tr>\n",
       "      <th>28</th>\n",
       "      <td>129.215618</td>\n",
       "    </tr>\n",
       "    <tr>\n",
       "      <th>29</th>\n",
       "      <td>170.420019</td>\n",
       "    </tr>\n",
       "    <tr>\n",
       "      <th>30</th>\n",
       "      <td>-70.656669</td>\n",
       "    </tr>\n",
       "    <tr>\n",
       "      <th>31</th>\n",
       "      <td>35.580852</td>\n",
       "    </tr>\n",
       "    <tr>\n",
       "      <th>32</th>\n",
       "      <td>61.614147</td>\n",
       "    </tr>\n",
       "    <tr>\n",
       "      <th>33</th>\n",
       "      <td>99.234083</td>\n",
       "    </tr>\n",
       "    <tr>\n",
       "      <th>34</th>\n",
       "      <td>-32.149222</td>\n",
       "    </tr>\n",
       "    <tr>\n",
       "      <th>35</th>\n",
       "      <td>28.738594</td>\n",
       "    </tr>\n",
       "    <tr>\n",
       "      <th>36</th>\n",
       "      <td>-93.669176</td>\n",
       "    </tr>\n",
       "    <tr>\n",
       "      <th>37</th>\n",
       "      <td>-5.430218</td>\n",
       "    </tr>\n",
       "    <tr>\n",
       "      <th>38</th>\n",
       "      <td>80.925388</td>\n",
       "    </tr>\n",
       "    <tr>\n",
       "      <th>39</th>\n",
       "      <td>56.828783</td>\n",
       "    </tr>\n",
       "  </tbody>\n",
       "</table>\n",
       "</div>"
      ],
      "text/plain": [
       "             0\n",
       "0   152.336591\n",
       "1   -49.007041\n",
       "2   -55.584611\n",
       "3    58.257697\n",
       "4    42.361513\n",
       "5   156.331239\n",
       "6   173.910492\n",
       "7   146.404960\n",
       "8   -55.253216\n",
       "9    28.924230\n",
       "10  130.809670\n",
       "11   33.044972\n",
       "12  -39.287331\n",
       "13  115.208157\n",
       "14  -34.015696\n",
       "15   36.792925\n",
       "16  126.535804\n",
       "17  121.696606\n",
       "18  -81.835739\n",
       "19   68.126682\n",
       "20  -46.661109\n",
       "21  -19.051232\n",
       "22   73.280164\n",
       "23   47.524427\n",
       "24   94.211121\n",
       "25   39.077491\n",
       "26   40.230009\n",
       "27  -11.884260\n",
       "28  129.215618\n",
       "29  170.420019\n",
       "30  -70.656669\n",
       "31   35.580852\n",
       "32   61.614147\n",
       "33   99.234083\n",
       "34  -32.149222\n",
       "35   28.738594\n",
       "36  -93.669176\n",
       "37   -5.430218\n",
       "38   80.925388\n",
       "39   56.828783"
      ]
     },
     "execution_count": 57,
     "metadata": {},
     "output_type": "execute_result"
    }
   ],
   "source": [
    "df_office_one_sample = pd.DataFrame(office_one_sample)\n",
    "df_office_one_sample"
   ]
  },
  {
   "cell_type": "code",
   "execution_count": 58,
   "id": "16f3b31b",
   "metadata": {},
   "outputs": [
    {
     "data": {
      "text/plain": [
       "array([[<AxesSubplot:title={'center':'0'}>]], dtype=object)"
      ]
     },
     "execution_count": 58,
     "metadata": {},
     "output_type": "execute_result"
    },
    {
     "data": {
      "image/png": "[encoded data removed]",
      "text/plain": [
       "<Figure size 640x480 with 1 Axes>"
      ]
     },
     "metadata": {},
     "output_type": "display_data"
    }
   ],
   "source": [
    "df_office_one_sample.hist()"
   ]
  },
  {
   "cell_type": "code",
   "execution_count": 45,
   "id": "ed6c67fd",
   "metadata": {},
   "outputs": [
    {
     "data": {
      "text/plain": [
       "0    12433.145218\n",
       "dtype: float64"
      ]
     },
     "execution_count": 45,
     "metadata": {},
     "output_type": "execute_result"
    }
   ],
   "source": [
    "df_office_one_sample.var()"
   ]
  },
  {
   "cell_type": "code",
   "execution_count": 59,
   "id": "52a47feb",
   "metadata": {},
   "outputs": [
    {
     "data": {
      "text/plain": [
       "array([-0.15561453, -0.52865855, -0.57011929, -0.52246555,  0.57323307,\n",
       "       -0.33919986,  0.40064787, -0.28089478,  0.72791396, -0.76896203,\n",
       "       -1.36512026,  0.25440942, -1.35648357,  0.43390526, -0.39904239,\n",
       "        1.17889973, -1.72816255, -0.19044061,  0.15810894, -0.08904584,\n",
       "        0.42508559, -1.04855904, -1.69449574, -0.35855669,  3.23599616,\n",
       "       -0.29128415,  0.16896137, -0.13863318, -0.4044761 , -0.13100156,\n",
       "       -0.24885965, -0.57817385, -2.12195418,  0.12153185,  1.32183626,\n",
       "       -0.31307029, -0.85543174,  0.16486575,  1.94221937,  0.7740519 ,\n",
       "        0.47903438,  0.89281417,  0.03427273, -1.52552358,  1.46185867,\n",
       "        1.00391593, -0.58146052,  0.61376502, -1.38860396, -0.25807971])"
      ]
     },
     "execution_count": 59,
     "metadata": {},
     "output_type": "execute_result"
    }
   ],
   "source": [
    "# office_two_sample = 50\n",
    "office_two_rnd_sample = np.random.normal(0, 1, office_two_sample_size)\n",
    "office_two_rnd_sample"
   ]
  },
  {
   "cell_type": "code",
   "execution_count": 60,
   "id": "3a120a44",
   "metadata": {
    "scrolled": true
   },
   "outputs": [
    {
     "data": {
      "text/plain": [
       "array([   4.43854715,  -32.86585517,  -37.01192851,  -32.24655454,\n",
       "         77.32330734,  -13.91998615,   60.06478732,   -8.08947767,\n",
       "         92.79139604,  -56.89620292, -116.51202635,   45.44094195,\n",
       "       -115.648357  ,   63.39052576,  -19.90423878,  137.88997257,\n",
       "       -152.81625489,    0.95593877,   35.8108942 ,   11.09541575,\n",
       "         62.50855892,  -84.85590381, -149.44957424,  -15.85566947,\n",
       "        343.59961626,   -9.12841459,   36.89613732,    6.13668191,\n",
       "        -20.44760955,    6.89984404,   -4.88596501,  -37.81738546,\n",
       "       -192.19541779,   32.15318487,  152.18362617,  -11.30702854,\n",
       "        -65.54317443,   36.48657497,  214.22193698,   97.40518963,\n",
       "         67.90343822,  109.28141688,   23.4272725 , -132.55235793,\n",
       "        166.18586732,  120.39159295,  -38.14605174,   81.37650227,\n",
       "       -118.86039592,   -5.8079714 ])"
      ]
     },
     "execution_count": 60,
     "metadata": {},
     "output_type": "execute_result"
    }
   ],
   "source": [
    "office_two_sample = office_two_rnd_sample * office_two_mean + office_two_sd\n",
    "office_two_sample"
   ]
  },
  {
   "cell_type": "code",
   "execution_count": 61,
   "id": "fc7701bf",
   "metadata": {},
   "outputs": [
    {
     "data": {
      "text/html": [
       "<div>\n",
       "<style scoped>\n",
       "    .dataframe tbody tr th:only-of-type {\n",
       "        vertical-align: middle;\n",
       "    }\n",
       "\n",
       "    .dataframe tbody tr th {\n",
       "        vertical-align: top;\n",
       "    }\n",
       "\n",
       "    .dataframe thead th {\n",
       "        text-align: right;\n",
       "    }\n",
       "</style>\n",
       "<table border=\"1\" class=\"dataframe\">\n",
       "  <thead>\n",
       "    <tr style=\"text-align: right;\">\n",
       "      <th></th>\n",
       "      <th>0</th>\n",
       "    </tr>\n",
       "  </thead>\n",
       "  <tbody>\n",
       "    <tr>\n",
       "      <th>0</th>\n",
       "      <td>4.438547</td>\n",
       "    </tr>\n",
       "    <tr>\n",
       "      <th>1</th>\n",
       "      <td>-32.865855</td>\n",
       "    </tr>\n",
       "    <tr>\n",
       "      <th>2</th>\n",
       "      <td>-37.011929</td>\n",
       "    </tr>\n",
       "    <tr>\n",
       "      <th>3</th>\n",
       "      <td>-32.246555</td>\n",
       "    </tr>\n",
       "    <tr>\n",
       "      <th>4</th>\n",
       "      <td>77.323307</td>\n",
       "    </tr>\n",
       "    <tr>\n",
       "      <th>5</th>\n",
       "      <td>-13.919986</td>\n",
       "    </tr>\n",
       "    <tr>\n",
       "      <th>6</th>\n",
       "      <td>60.064787</td>\n",
       "    </tr>\n",
       "    <tr>\n",
       "      <th>7</th>\n",
       "      <td>-8.089478</td>\n",
       "    </tr>\n",
       "    <tr>\n",
       "      <th>8</th>\n",
       "      <td>92.791396</td>\n",
       "    </tr>\n",
       "    <tr>\n",
       "      <th>9</th>\n",
       "      <td>-56.896203</td>\n",
       "    </tr>\n",
       "    <tr>\n",
       "      <th>10</th>\n",
       "      <td>-116.512026</td>\n",
       "    </tr>\n",
       "    <tr>\n",
       "      <th>11</th>\n",
       "      <td>45.440942</td>\n",
       "    </tr>\n",
       "    <tr>\n",
       "      <th>12</th>\n",
       "      <td>-115.648357</td>\n",
       "    </tr>\n",
       "    <tr>\n",
       "      <th>13</th>\n",
       "      <td>63.390526</td>\n",
       "    </tr>\n",
       "    <tr>\n",
       "      <th>14</th>\n",
       "      <td>-19.904239</td>\n",
       "    </tr>\n",
       "    <tr>\n",
       "      <th>15</th>\n",
       "      <td>137.889973</td>\n",
       "    </tr>\n",
       "    <tr>\n",
       "      <th>16</th>\n",
       "      <td>-152.816255</td>\n",
       "    </tr>\n",
       "    <tr>\n",
       "      <th>17</th>\n",
       "      <td>0.955939</td>\n",
       "    </tr>\n",
       "    <tr>\n",
       "      <th>18</th>\n",
       "      <td>35.810894</td>\n",
       "    </tr>\n",
       "    <tr>\n",
       "      <th>19</th>\n",
       "      <td>11.095416</td>\n",
       "    </tr>\n",
       "    <tr>\n",
       "      <th>20</th>\n",
       "      <td>62.508559</td>\n",
       "    </tr>\n",
       "    <tr>\n",
       "      <th>21</th>\n",
       "      <td>-84.855904</td>\n",
       "    </tr>\n",
       "    <tr>\n",
       "      <th>22</th>\n",
       "      <td>-149.449574</td>\n",
       "    </tr>\n",
       "    <tr>\n",
       "      <th>23</th>\n",
       "      <td>-15.855669</td>\n",
       "    </tr>\n",
       "    <tr>\n",
       "      <th>24</th>\n",
       "      <td>343.599616</td>\n",
       "    </tr>\n",
       "    <tr>\n",
       "      <th>25</th>\n",
       "      <td>-9.128415</td>\n",
       "    </tr>\n",
       "    <tr>\n",
       "      <th>26</th>\n",
       "      <td>36.896137</td>\n",
       "    </tr>\n",
       "    <tr>\n",
       "      <th>27</th>\n",
       "      <td>6.136682</td>\n",
       "    </tr>\n",
       "    <tr>\n",
       "      <th>28</th>\n",
       "      <td>-20.447610</td>\n",
       "    </tr>\n",
       "    <tr>\n",
       "      <th>29</th>\n",
       "      <td>6.899844</td>\n",
       "    </tr>\n",
       "    <tr>\n",
       "      <th>30</th>\n",
       "      <td>-4.885965</td>\n",
       "    </tr>\n",
       "    <tr>\n",
       "      <th>31</th>\n",
       "      <td>-37.817385</td>\n",
       "    </tr>\n",
       "    <tr>\n",
       "      <th>32</th>\n",
       "      <td>-192.195418</td>\n",
       "    </tr>\n",
       "    <tr>\n",
       "      <th>33</th>\n",
       "      <td>32.153185</td>\n",
       "    </tr>\n",
       "    <tr>\n",
       "      <th>34</th>\n",
       "      <td>152.183626</td>\n",
       "    </tr>\n",
       "    <tr>\n",
       "      <th>35</th>\n",
       "      <td>-11.307029</td>\n",
       "    </tr>\n",
       "    <tr>\n",
       "      <th>36</th>\n",
       "      <td>-65.543174</td>\n",
       "    </tr>\n",
       "    <tr>\n",
       "      <th>37</th>\n",
       "      <td>36.486575</td>\n",
       "    </tr>\n",
       "    <tr>\n",
       "      <th>38</th>\n",
       "      <td>214.221937</td>\n",
       "    </tr>\n",
       "    <tr>\n",
       "      <th>39</th>\n",
       "      <td>97.405190</td>\n",
       "    </tr>\n",
       "    <tr>\n",
       "      <th>40</th>\n",
       "      <td>67.903438</td>\n",
       "    </tr>\n",
       "    <tr>\n",
       "      <th>41</th>\n",
       "      <td>109.281417</td>\n",
       "    </tr>\n",
       "    <tr>\n",
       "      <th>42</th>\n",
       "      <td>23.427273</td>\n",
       "    </tr>\n",
       "    <tr>\n",
       "      <th>43</th>\n",
       "      <td>-132.552358</td>\n",
       "    </tr>\n",
       "    <tr>\n",
       "      <th>44</th>\n",
       "      <td>166.185867</td>\n",
       "    </tr>\n",
       "    <tr>\n",
       "      <th>45</th>\n",
       "      <td>120.391593</td>\n",
       "    </tr>\n",
       "    <tr>\n",
       "      <th>46</th>\n",
       "      <td>-38.146052</td>\n",
       "    </tr>\n",
       "    <tr>\n",
       "      <th>47</th>\n",
       "      <td>81.376502</td>\n",
       "    </tr>\n",
       "    <tr>\n",
       "      <th>48</th>\n",
       "      <td>-118.860396</td>\n",
       "    </tr>\n",
       "    <tr>\n",
       "      <th>49</th>\n",
       "      <td>-5.807971</td>\n",
       "    </tr>\n",
       "  </tbody>\n",
       "</table>\n",
       "</div>"
      ],
      "text/plain": [
       "             0\n",
       "0     4.438547\n",
       "1   -32.865855\n",
       "2   -37.011929\n",
       "3   -32.246555\n",
       "4    77.323307\n",
       "5   -13.919986\n",
       "6    60.064787\n",
       "7    -8.089478\n",
       "8    92.791396\n",
       "9   -56.896203\n",
       "10 -116.512026\n",
       "11   45.440942\n",
       "12 -115.648357\n",
       "13   63.390526\n",
       "14  -19.904239\n",
       "15  137.889973\n",
       "16 -152.816255\n",
       "17    0.955939\n",
       "18   35.810894\n",
       "19   11.095416\n",
       "20   62.508559\n",
       "21  -84.855904\n",
       "22 -149.449574\n",
       "23  -15.855669\n",
       "24  343.599616\n",
       "25   -9.128415\n",
       "26   36.896137\n",
       "27    6.136682\n",
       "28  -20.447610\n",
       "29    6.899844\n",
       "30   -4.885965\n",
       "31  -37.817385\n",
       "32 -192.195418\n",
       "33   32.153185\n",
       "34  152.183626\n",
       "35  -11.307029\n",
       "36  -65.543174\n",
       "37   36.486575\n",
       "38  214.221937\n",
       "39   97.405190\n",
       "40   67.903438\n",
       "41  109.281417\n",
       "42   23.427273\n",
       "43 -132.552358\n",
       "44  166.185867\n",
       "45  120.391593\n",
       "46  -38.146052\n",
       "47   81.376502\n",
       "48 -118.860396\n",
       "49   -5.807971"
      ]
     },
     "execution_count": 61,
     "metadata": {},
     "output_type": "execute_result"
    }
   ],
   "source": [
    "df_office_two_sample = pd.DataFrame(office_two_sample)\n",
    "df_office_two_sample"
   ]
  },
  {
   "cell_type": "code",
   "execution_count": 62,
   "id": "4bec0b4b",
   "metadata": {},
   "outputs": [
    {
     "data": {
      "text/plain": [
       "array([[<AxesSubplot:title={'center':'0'}>]], dtype=object)"
      ]
     },
     "execution_count": 62,
     "metadata": {},
     "output_type": "execute_result"
    },
    {
     "data": {
      "image/png": "[encoded data removed]",
      "text/plain": [
       "<Figure size 640x480 with 1 Axes>"
      ]
     },
     "metadata": {},
     "output_type": "display_data"
    }
   ],
   "source": [
    "df_office_two_sample.hist()"
   ]
  },
  {
   "cell_type": "code",
   "execution_count": 91,
   "id": "e530f383",
   "metadata": {
    "scrolled": true
   },
   "outputs": [
    {
     "data": {
      "text/plain": [
       "(5579.040070842495, 9426.479209763429)"
      ]
     },
     "execution_count": 91,
     "metadata": {},
     "output_type": "execute_result"
    }
   ],
   "source": [
    "office_one_sample.var(), office_two_sample.var()"
   ]
  },
  {
   "cell_type": "code",
   "execution_count": 93,
   "id": "8fd128f5",
   "metadata": {},
   "outputs": [
    {
     "data": {
      "text/plain": [
       "(0.6242405492654366, 0.43159974149485336)"
      ]
     },
     "execution_count": 93,
     "metadata": {},
     "output_type": "execute_result"
    }
   ],
   "source": [
    "stat, p_val = stats.levene(office_one_sample, office_two_sample)\n",
    "stat, p_val"
   ]
  },
  {
   "cell_type": "code",
   "execution_count": 64,
   "id": "7326cc48",
   "metadata": {},
   "outputs": [
    {
     "data": {
      "text/plain": [
       "(1.7231215370480526, 0.0883827423252662)"
      ]
     },
     "execution_count": 64,
     "metadata": {},
     "output_type": "execute_result"
    }
   ],
   "source": [
    "t, p = stats.ttest_ind(office_one_sample, office_two_sample, equal_var=False)\n",
    "t, p"
   ]
  },
  {
   "cell_type": "code",
   "execution_count": 65,
   "id": "7799a586",
   "metadata": {
    "scrolled": true
   },
   "outputs": [
    {
     "name": "stdout",
     "output_type": "stream",
     "text": [
      "is p/2 < alpha?  True\n",
      "is t > 0?  True\n"
     ]
    }
   ],
   "source": [
    "print(\"is p/2 < alpha? \", p / 2 < alpha)\n",
    "print(\"is t > 0? \", t > 0)"
   ]
  },
  {
   "cell_type": "code",
   "execution_count": 66,
   "id": "3fbb7dc3",
   "metadata": {
    "scrolled": true
   },
   "outputs": [
    {
     "name": "stdout",
     "output_type": "stream",
     "text": [
      "We reject $H_{0}$\n"
     ]
    }
   ],
   "source": [
    "if p / 2 > alpha:\n",
    "    print(\"We fail to reject $H_{0}$\")\n",
    "elif t < 0:\n",
    "    print(\"We fail to reject $H_{0}$\")\n",
    "else:\n",
    "    print(\"We reject $H_{0}$\")"
   ]
  },
  {
   "cell_type": "markdown",
   "id": "463cbdec",
   "metadata": {},
   "source": [
    "#### t-test from stats (Only works if you have the mean, sigma and the number of random samples)"
   ]
  },
  {
   "cell_type": "code",
   "execution_count": 94,
   "id": "dfa6b37a",
   "metadata": {},
   "outputs": [
    {
     "data": {
      "text/plain": [
       "Ttest_indResult(statistic=-2.7091418459143854, pvalue=0.00811206270346016)"
      ]
     },
     "execution_count": 94,
     "metadata": {},
     "output_type": "execute_result"
    }
   ],
   "source": [
    "stats.ttest_ind_from_stats(90,15,40,100,20,50, equal_var=False)"
   ]
  },
  {
   "cell_type": "markdown",
   "id": "dc5f3701",
   "metadata": {},
   "source": [
    "### 3. Load the mpg dataset and use it to answer the following questions:\n"
   ]
  },
  {
   "cell_type": "markdown",
   "id": "577b412f",
   "metadata": {},
   "source": [
    "    Is there a difference in fuel-efficiency in cars from 2008 vs 1999?\n"
   ]
  },
  {
   "cell_type": "markdown",
   "id": "a88484e6",
   "metadata": {},
   "source": [
    "         * Two tail, two sample\n",
    "         \n",
    "             $H_{0}$ : There is no difference in FR in cars from 2008 vs 1999\n",
    "\n",
    "             $H_{a}$ : There is difference in FR in cars from 2008 vs 1999\n",
    "      "
   ]
  },
  {
   "cell_type": "code",
   "execution_count": 167,
   "id": "89af3da3",
   "metadata": {
    "scrolled": false
   },
   "outputs": [
    {
     "data": {
      "text/html": [
       "<div>\n",
       "<style scoped>\n",
       "    .dataframe tbody tr th:only-of-type {\n",
       "        vertical-align: middle;\n",
       "    }\n",
       "\n",
       "    .dataframe tbody tr th {\n",
       "        vertical-align: top;\n",
       "    }\n",
       "\n",
       "    .dataframe thead th {\n",
       "        text-align: right;\n",
       "    }\n",
       "</style>\n",
       "<table border=\"1\" class=\"dataframe\">\n",
       "  <thead>\n",
       "    <tr style=\"text-align: right;\">\n",
       "      <th></th>\n",
       "      <th>manufacturer</th>\n",
       "      <th>model</th>\n",
       "      <th>displ</th>\n",
       "      <th>year</th>\n",
       "      <th>cyl</th>\n",
       "      <th>trans</th>\n",
       "      <th>drv</th>\n",
       "      <th>cty</th>\n",
       "      <th>hwy</th>\n",
       "      <th>fl</th>\n",
       "      <th>class</th>\n",
       "    </tr>\n",
       "  </thead>\n",
       "  <tbody>\n",
       "    <tr>\n",
       "      <th>1</th>\n",
       "      <td>audi</td>\n",
       "      <td>a4</td>\n",
       "      <td>1.8</td>\n",
       "      <td>1999</td>\n",
       "      <td>4</td>\n",
       "      <td>auto(l5)</td>\n",
       "      <td>f</td>\n",
       "      <td>18</td>\n",
       "      <td>29</td>\n",
       "      <td>p</td>\n",
       "      <td>compact</td>\n",
       "    </tr>\n",
       "    <tr>\n",
       "      <th>2</th>\n",
       "      <td>audi</td>\n",
       "      <td>a4</td>\n",
       "      <td>1.8</td>\n",
       "      <td>1999</td>\n",
       "      <td>4</td>\n",
       "      <td>manual(m5)</td>\n",
       "      <td>f</td>\n",
       "      <td>21</td>\n",
       "      <td>29</td>\n",
       "      <td>p</td>\n",
       "      <td>compact</td>\n",
       "    </tr>\n",
       "    <tr>\n",
       "      <th>3</th>\n",
       "      <td>audi</td>\n",
       "      <td>a4</td>\n",
       "      <td>2.0</td>\n",
       "      <td>2008</td>\n",
       "      <td>4</td>\n",
       "      <td>manual(m6)</td>\n",
       "      <td>f</td>\n",
       "      <td>20</td>\n",
       "      <td>31</td>\n",
       "      <td>p</td>\n",
       "      <td>compact</td>\n",
       "    </tr>\n",
       "    <tr>\n",
       "      <th>4</th>\n",
       "      <td>audi</td>\n",
       "      <td>a4</td>\n",
       "      <td>2.0</td>\n",
       "      <td>2008</td>\n",
       "      <td>4</td>\n",
       "      <td>auto(av)</td>\n",
       "      <td>f</td>\n",
       "      <td>21</td>\n",
       "      <td>30</td>\n",
       "      <td>p</td>\n",
       "      <td>compact</td>\n",
       "    </tr>\n",
       "    <tr>\n",
       "      <th>5</th>\n",
       "      <td>audi</td>\n",
       "      <td>a4</td>\n",
       "      <td>2.8</td>\n",
       "      <td>1999</td>\n",
       "      <td>6</td>\n",
       "      <td>auto(l5)</td>\n",
       "      <td>f</td>\n",
       "      <td>16</td>\n",
       "      <td>26</td>\n",
       "      <td>p</td>\n",
       "      <td>compact</td>\n",
       "    </tr>\n",
       "  </tbody>\n",
       "</table>\n",
       "</div>"
      ],
      "text/plain": [
       "  manufacturer model  displ  year  cyl       trans drv  cty  hwy fl    class\n",
       "1         audi    a4    1.8  1999    4    auto(l5)   f   18   29  p  compact\n",
       "2         audi    a4    1.8  1999    4  manual(m5)   f   21   29  p  compact\n",
       "3         audi    a4    2.0  2008    4  manual(m6)   f   20   31  p  compact\n",
       "4         audi    a4    2.0  2008    4    auto(av)   f   21   30  p  compact\n",
       "5         audi    a4    2.8  1999    6    auto(l5)   f   16   26  p  compact"
      ]
     },
     "execution_count": 167,
     "metadata": {},
     "output_type": "execute_result"
    }
   ],
   "source": [
    "mpg = data('mpg')\n",
    "mpg.head()"
   ]
  },
  {
   "cell_type": "code",
   "execution_count": 168,
   "id": "2106bdc3",
   "metadata": {
    "scrolled": true
   },
   "outputs": [
    {
     "data": {
      "text/html": [
       "<div>\n",
       "<style scoped>\n",
       "    .dataframe tbody tr th:only-of-type {\n",
       "        vertical-align: middle;\n",
       "    }\n",
       "\n",
       "    .dataframe tbody tr th {\n",
       "        vertical-align: top;\n",
       "    }\n",
       "\n",
       "    .dataframe thead th {\n",
       "        text-align: right;\n",
       "    }\n",
       "</style>\n",
       "<table border=\"1\" class=\"dataframe\">\n",
       "  <thead>\n",
       "    <tr style=\"text-align: right;\">\n",
       "      <th></th>\n",
       "      <th>manufacturer</th>\n",
       "      <th>model</th>\n",
       "      <th>displ</th>\n",
       "      <th>year</th>\n",
       "      <th>cyl</th>\n",
       "      <th>trans</th>\n",
       "      <th>drv</th>\n",
       "      <th>cty</th>\n",
       "      <th>hwy</th>\n",
       "      <th>fl</th>\n",
       "      <th>class</th>\n",
       "      <th>mileage_difference</th>\n",
       "    </tr>\n",
       "  </thead>\n",
       "  <tbody>\n",
       "    <tr>\n",
       "      <th>1</th>\n",
       "      <td>audi</td>\n",
       "      <td>a4</td>\n",
       "      <td>1.8</td>\n",
       "      <td>1999</td>\n",
       "      <td>4</td>\n",
       "      <td>auto(l5)</td>\n",
       "      <td>f</td>\n",
       "      <td>18</td>\n",
       "      <td>29</td>\n",
       "      <td>p</td>\n",
       "      <td>compact</td>\n",
       "      <td>11</td>\n",
       "    </tr>\n",
       "    <tr>\n",
       "      <th>2</th>\n",
       "      <td>audi</td>\n",
       "      <td>a4</td>\n",
       "      <td>1.8</td>\n",
       "      <td>1999</td>\n",
       "      <td>4</td>\n",
       "      <td>manual(m5)</td>\n",
       "      <td>f</td>\n",
       "      <td>21</td>\n",
       "      <td>29</td>\n",
       "      <td>p</td>\n",
       "      <td>compact</td>\n",
       "      <td>8</td>\n",
       "    </tr>\n",
       "    <tr>\n",
       "      <th>3</th>\n",
       "      <td>audi</td>\n",
       "      <td>a4</td>\n",
       "      <td>2.0</td>\n",
       "      <td>2008</td>\n",
       "      <td>4</td>\n",
       "      <td>manual(m6)</td>\n",
       "      <td>f</td>\n",
       "      <td>20</td>\n",
       "      <td>31</td>\n",
       "      <td>p</td>\n",
       "      <td>compact</td>\n",
       "      <td>11</td>\n",
       "    </tr>\n",
       "    <tr>\n",
       "      <th>4</th>\n",
       "      <td>audi</td>\n",
       "      <td>a4</td>\n",
       "      <td>2.0</td>\n",
       "      <td>2008</td>\n",
       "      <td>4</td>\n",
       "      <td>auto(av)</td>\n",
       "      <td>f</td>\n",
       "      <td>21</td>\n",
       "      <td>30</td>\n",
       "      <td>p</td>\n",
       "      <td>compact</td>\n",
       "      <td>9</td>\n",
       "    </tr>\n",
       "    <tr>\n",
       "      <th>5</th>\n",
       "      <td>audi</td>\n",
       "      <td>a4</td>\n",
       "      <td>2.8</td>\n",
       "      <td>1999</td>\n",
       "      <td>6</td>\n",
       "      <td>auto(l5)</td>\n",
       "      <td>f</td>\n",
       "      <td>16</td>\n",
       "      <td>26</td>\n",
       "      <td>p</td>\n",
       "      <td>compact</td>\n",
       "      <td>10</td>\n",
       "    </tr>\n",
       "    <tr>\n",
       "      <th>...</th>\n",
       "      <td>...</td>\n",
       "      <td>...</td>\n",
       "      <td>...</td>\n",
       "      <td>...</td>\n",
       "      <td>...</td>\n",
       "      <td>...</td>\n",
       "      <td>...</td>\n",
       "      <td>...</td>\n",
       "      <td>...</td>\n",
       "      <td>...</td>\n",
       "      <td>...</td>\n",
       "      <td>...</td>\n",
       "    </tr>\n",
       "    <tr>\n",
       "      <th>230</th>\n",
       "      <td>volkswagen</td>\n",
       "      <td>passat</td>\n",
       "      <td>2.0</td>\n",
       "      <td>2008</td>\n",
       "      <td>4</td>\n",
       "      <td>auto(s6)</td>\n",
       "      <td>f</td>\n",
       "      <td>19</td>\n",
       "      <td>28</td>\n",
       "      <td>p</td>\n",
       "      <td>midsize</td>\n",
       "      <td>9</td>\n",
       "    </tr>\n",
       "    <tr>\n",
       "      <th>231</th>\n",
       "      <td>volkswagen</td>\n",
       "      <td>passat</td>\n",
       "      <td>2.0</td>\n",
       "      <td>2008</td>\n",
       "      <td>4</td>\n",
       "      <td>manual(m6)</td>\n",
       "      <td>f</td>\n",
       "      <td>21</td>\n",
       "      <td>29</td>\n",
       "      <td>p</td>\n",
       "      <td>midsize</td>\n",
       "      <td>8</td>\n",
       "    </tr>\n",
       "    <tr>\n",
       "      <th>232</th>\n",
       "      <td>volkswagen</td>\n",
       "      <td>passat</td>\n",
       "      <td>2.8</td>\n",
       "      <td>1999</td>\n",
       "      <td>6</td>\n",
       "      <td>auto(l5)</td>\n",
       "      <td>f</td>\n",
       "      <td>16</td>\n",
       "      <td>26</td>\n",
       "      <td>p</td>\n",
       "      <td>midsize</td>\n",
       "      <td>10</td>\n",
       "    </tr>\n",
       "    <tr>\n",
       "      <th>233</th>\n",
       "      <td>volkswagen</td>\n",
       "      <td>passat</td>\n",
       "      <td>2.8</td>\n",
       "      <td>1999</td>\n",
       "      <td>6</td>\n",
       "      <td>manual(m5)</td>\n",
       "      <td>f</td>\n",
       "      <td>18</td>\n",
       "      <td>26</td>\n",
       "      <td>p</td>\n",
       "      <td>midsize</td>\n",
       "      <td>8</td>\n",
       "    </tr>\n",
       "    <tr>\n",
       "      <th>234</th>\n",
       "      <td>volkswagen</td>\n",
       "      <td>passat</td>\n",
       "      <td>3.6</td>\n",
       "      <td>2008</td>\n",
       "      <td>6</td>\n",
       "      <td>auto(s6)</td>\n",
       "      <td>f</td>\n",
       "      <td>17</td>\n",
       "      <td>26</td>\n",
       "      <td>p</td>\n",
       "      <td>midsize</td>\n",
       "      <td>9</td>\n",
       "    </tr>\n",
       "  </tbody>\n",
       "</table>\n",
       "<p>234 rows × 12 columns</p>\n",
       "</div>"
      ],
      "text/plain": [
       "    manufacturer   model  displ  year  cyl       trans drv  cty  hwy fl  \\\n",
       "1           audi      a4    1.8  1999    4    auto(l5)   f   18   29  p   \n",
       "2           audi      a4    1.8  1999    4  manual(m5)   f   21   29  p   \n",
       "3           audi      a4    2.0  2008    4  manual(m6)   f   20   31  p   \n",
       "4           audi      a4    2.0  2008    4    auto(av)   f   21   30  p   \n",
       "5           audi      a4    2.8  1999    6    auto(l5)   f   16   26  p   \n",
       "..           ...     ...    ...   ...  ...         ...  ..  ...  ... ..   \n",
       "230   volkswagen  passat    2.0  2008    4    auto(s6)   f   19   28  p   \n",
       "231   volkswagen  passat    2.0  2008    4  manual(m6)   f   21   29  p   \n",
       "232   volkswagen  passat    2.8  1999    6    auto(l5)   f   16   26  p   \n",
       "233   volkswagen  passat    2.8  1999    6  manual(m5)   f   18   26  p   \n",
       "234   volkswagen  passat    3.6  2008    6    auto(s6)   f   17   26  p   \n",
       "\n",
       "       class  mileage_difference  \n",
       "1    compact                  11  \n",
       "2    compact                   8  \n",
       "3    compact                  11  \n",
       "4    compact                   9  \n",
       "5    compact                  10  \n",
       "..       ...                 ...  \n",
       "230  midsize                   9  \n",
       "231  midsize                   8  \n",
       "232  midsize                  10  \n",
       "233  midsize                   8  \n",
       "234  midsize                   9  \n",
       "\n",
       "[234 rows x 12 columns]"
      ]
     },
     "execution_count": 168,
     "metadata": {},
     "output_type": "execute_result"
    }
   ],
   "source": [
    "mpg['mileage_difference'] = mpg['hwy'] - mpg['cty']\n",
    "mpg"
   ]
  },
  {
   "cell_type": "code",
   "execution_count": 169,
   "id": "e545aacb",
   "metadata": {},
   "outputs": [
    {
     "data": {
      "text/html": [
       "<div>\n",
       "<style scoped>\n",
       "    .dataframe tbody tr th:only-of-type {\n",
       "        vertical-align: middle;\n",
       "    }\n",
       "\n",
       "    .dataframe tbody tr th {\n",
       "        vertical-align: top;\n",
       "    }\n",
       "\n",
       "    .dataframe thead th {\n",
       "        text-align: right;\n",
       "    }\n",
       "</style>\n",
       "<table border=\"1\" class=\"dataframe\">\n",
       "  <thead>\n",
       "    <tr style=\"text-align: right;\">\n",
       "      <th></th>\n",
       "      <th>manufacturer</th>\n",
       "      <th>model</th>\n",
       "      <th>displ</th>\n",
       "      <th>year</th>\n",
       "      <th>cyl</th>\n",
       "      <th>trans</th>\n",
       "      <th>drv</th>\n",
       "      <th>cty</th>\n",
       "      <th>hwy</th>\n",
       "      <th>fl</th>\n",
       "      <th>class</th>\n",
       "      <th>mileage_difference</th>\n",
       "      <th>avg_fe</th>\n",
       "    </tr>\n",
       "  </thead>\n",
       "  <tbody>\n",
       "    <tr>\n",
       "      <th>1</th>\n",
       "      <td>audi</td>\n",
       "      <td>a4</td>\n",
       "      <td>1.8</td>\n",
       "      <td>1999</td>\n",
       "      <td>4</td>\n",
       "      <td>auto(l5)</td>\n",
       "      <td>f</td>\n",
       "      <td>18</td>\n",
       "      <td>29</td>\n",
       "      <td>p</td>\n",
       "      <td>compact</td>\n",
       "      <td>11</td>\n",
       "      <td>22.212766</td>\n",
       "    </tr>\n",
       "    <tr>\n",
       "      <th>2</th>\n",
       "      <td>audi</td>\n",
       "      <td>a4</td>\n",
       "      <td>1.8</td>\n",
       "      <td>1999</td>\n",
       "      <td>4</td>\n",
       "      <td>manual(m5)</td>\n",
       "      <td>f</td>\n",
       "      <td>21</td>\n",
       "      <td>29</td>\n",
       "      <td>p</td>\n",
       "      <td>compact</td>\n",
       "      <td>8</td>\n",
       "      <td>24.360000</td>\n",
       "    </tr>\n",
       "    <tr>\n",
       "      <th>3</th>\n",
       "      <td>audi</td>\n",
       "      <td>a4</td>\n",
       "      <td>2.0</td>\n",
       "      <td>2008</td>\n",
       "      <td>4</td>\n",
       "      <td>manual(m6)</td>\n",
       "      <td>f</td>\n",
       "      <td>20</td>\n",
       "      <td>31</td>\n",
       "      <td>p</td>\n",
       "      <td>compact</td>\n",
       "      <td>11</td>\n",
       "      <td>24.313725</td>\n",
       "    </tr>\n",
       "    <tr>\n",
       "      <th>4</th>\n",
       "      <td>audi</td>\n",
       "      <td>a4</td>\n",
       "      <td>2.0</td>\n",
       "      <td>2008</td>\n",
       "      <td>4</td>\n",
       "      <td>auto(av)</td>\n",
       "      <td>f</td>\n",
       "      <td>21</td>\n",
       "      <td>30</td>\n",
       "      <td>p</td>\n",
       "      <td>compact</td>\n",
       "      <td>9</td>\n",
       "      <td>24.705882</td>\n",
       "    </tr>\n",
       "    <tr>\n",
       "      <th>5</th>\n",
       "      <td>audi</td>\n",
       "      <td>a4</td>\n",
       "      <td>2.8</td>\n",
       "      <td>1999</td>\n",
       "      <td>6</td>\n",
       "      <td>auto(l5)</td>\n",
       "      <td>f</td>\n",
       "      <td>16</td>\n",
       "      <td>26</td>\n",
       "      <td>p</td>\n",
       "      <td>compact</td>\n",
       "      <td>10</td>\n",
       "      <td>19.809524</td>\n",
       "    </tr>\n",
       "  </tbody>\n",
       "</table>\n",
       "</div>"
      ],
      "text/plain": [
       "  manufacturer model  displ  year  cyl       trans drv  cty  hwy fl    class  \\\n",
       "1         audi    a4    1.8  1999    4    auto(l5)   f   18   29  p  compact   \n",
       "2         audi    a4    1.8  1999    4  manual(m5)   f   21   29  p  compact   \n",
       "3         audi    a4    2.0  2008    4  manual(m6)   f   20   31  p  compact   \n",
       "4         audi    a4    2.0  2008    4    auto(av)   f   21   30  p  compact   \n",
       "5         audi    a4    2.8  1999    6    auto(l5)   f   16   26  p  compact   \n",
       "\n",
       "   mileage_difference     avg_fe  \n",
       "1                  11  22.212766  \n",
       "2                   8  24.360000  \n",
       "3                  11  24.313725  \n",
       "4                   9  24.705882  \n",
       "5                  10  19.809524  "
      ]
     },
     "execution_count": 169,
     "metadata": {},
     "output_type": "execute_result"
    }
   ],
   "source": [
    "mpg['avg_fe'] = stats.hmean(mpg[['cty','hwy']], axis=1)\n",
    "mpg.head()"
   ]
  },
  {
   "cell_type": "code",
   "execution_count": 170,
   "id": "62ba3ca1",
   "metadata": {},
   "outputs": [],
   "source": [
    "fe_2008 = mpg[mpg['year'] == '2008'].avg_fe\n",
    "fe_1999 = mpg[mpg['year'] == '1999'].avg_fe"
   ]
  },
  {
   "cell_type": "code",
   "execution_count": 171,
   "id": "17ab200e",
   "metadata": {
    "scrolled": true
   },
   "outputs": [
    {
     "data": {
      "text/plain": [
       "<AxesSubplot:>"
      ]
     },
     "execution_count": 171,
     "metadata": {},
     "output_type": "execute_result"
    },
    {
     "data": {
      "image/png": "[encoded data removed]",
      "text/plain": [
       "<Figure size 900x600 with 1 Axes>"
      ]
     },
     "metadata": {},
     "output_type": "display_data"
    }
   ],
   "source": [
    "plt.figure(figsize=(9,6))\n",
    "fe_2008.hist()"
   ]
  },
  {
   "cell_type": "code",
   "execution_count": 172,
   "id": "2dcbcd09",
   "metadata": {
    "scrolled": true
   },
   "outputs": [
    {
     "data": {
      "text/plain": [
       "<AxesSubplot:>"
      ]
     },
     "execution_count": 172,
     "metadata": {},
     "output_type": "execute_result"
    },
    {
     "data": {
      "image/png": "[encoded data removed]",
      "text/plain": [
       "<Figure size 900x600 with 1 Axes>"
      ]
     },
     "metadata": {},
     "output_type": "display_data"
    }
   ],
   "source": [
    "plt.figure(figsize=(9,6))\n",
    "fe_1999.hist()"
   ]
  },
  {
   "cell_type": "code",
   "execution_count": 173,
   "id": "23b03c4a",
   "metadata": {},
   "outputs": [
    {
     "name": "stderr",
     "output_type": "stream",
     "text": [
      "/opt/homebrew/anaconda3/lib/python3.9/site-packages/numpy/core/fromnumeric.py:3440: RuntimeWarning: Mean of empty slice.\n",
      "  return _methods._mean(a, axis=axis, dtype=dtype,\n",
      "/opt/homebrew/anaconda3/lib/python3.9/site-packages/numpy/core/_methods.py:189: RuntimeWarning: invalid value encountered in double_scalars\n",
      "  ret = ret.dtype.type(ret / rcount)\n"
     ]
    },
    {
     "data": {
      "text/plain": [
       "LeveneResult(statistic=nan, pvalue=nan)"
      ]
     },
     "execution_count": 173,
     "metadata": {},
     "output_type": "execute_result"
    }
   ],
   "source": [
    "stats.levene(fe_2008, fe_1999)"
   ]
  },
  {
   "cell_type": "code",
   "execution_count": 174,
   "id": "c95db8fb",
   "metadata": {
    "scrolled": true
   },
   "outputs": [
    {
     "data": {
      "text/plain": [
       "(nan, nan)"
      ]
     },
     "execution_count": 174,
     "metadata": {},
     "output_type": "execute_result"
    }
   ],
   "source": [
    "t, p = stats.ttest_ind(fe_2008, fe_1999)\n",
    "t, p"
   ]
  },
  {
   "cell_type": "code",
   "execution_count": 155,
   "id": "dc8bbf09",
   "metadata": {},
   "outputs": [
    {
     "name": "stdout",
     "output_type": "stream",
     "text": [
      "We reject the null hypothesis\n"
     ]
    }
   ],
   "source": [
    "if p < a:\n",
    "    print('We reject the null hypothesis')\n",
    "else:\n",
    "    print('We fail to reject the null hypothesis')\n",
    "    "
   ]
  },
  {
   "cell_type": "code",
   "execution_count": 162,
   "id": "c773a95c",
   "metadata": {},
   "outputs": [
    {
     "data": {
      "text/plain": [
       "(nan, nan)"
      ]
     },
     "execution_count": 162,
     "metadata": {},
     "output_type": "execute_result"
    }
   ],
   "source": [
    "fe_2008.mean(), fe_1999.mean()"
   ]
  },
  {
   "cell_type": "code",
   "execution_count": null,
   "id": "45fc12da",
   "metadata": {},
   "outputs": [],
   "source": []
  },
  {
   "cell_type": "markdown",
   "id": "0a3038e5",
   "metadata": {},
   "source": [
    "    Are compact cars more fuel-efficient than the average car?\n"
   ]
  },
  {
   "cell_type": "markdown",
   "id": "6b999886",
   "metadata": {},
   "source": [
    "         * One tail, one sample\n",
    "         \n",
    "             $H_{0}$ : There is no dirrence in fe between compact cars vs average cars.\n",
    "\n",
    "             $H_{a}$ : There is a difference in fe between compact cars vs average cars.\n",
    "      "
   ]
  },
  {
   "cell_type": "code",
   "execution_count": 122,
   "id": "f88fe80e",
   "metadata": {},
   "outputs": [],
   "source": [
    "fe_compact = mpg[mpg['class'] == 'compact'].avg_fe"
   ]
  },
  {
   "cell_type": "code",
   "execution_count": 123,
   "id": "06e7b583",
   "metadata": {},
   "outputs": [],
   "source": [
    "μ = mpg.avg_fe.mean()"
   ]
  },
  {
   "cell_type": "code",
   "execution_count": 124,
   "id": "b40dc1ef",
   "metadata": {},
   "outputs": [
    {
     "data": {
      "text/plain": [
       "19.585525317633177"
      ]
     },
     "execution_count": 124,
     "metadata": {},
     "output_type": "execute_result"
    }
   ],
   "source": [
    "μ"
   ]
  },
  {
   "cell_type": "code",
   "execution_count": 125,
   "id": "5a2ca7ca",
   "metadata": {},
   "outputs": [
    {
     "data": {
      "text/plain": [
       "<AxesSubplot:>"
      ]
     },
     "execution_count": 125,
     "metadata": {},
     "output_type": "execute_result"
    },
    {
     "data": {
      "image/png": "[encoded data removed]",
      "text/plain": [
       "<Figure size 900x600 with 1 Axes>"
      ]
     },
     "metadata": {},
     "output_type": "display_data"
    }
   ],
   "source": [
    "plt.figure(figsize=(9,6))\n",
    "fe_compact.hist()"
   ]
  },
  {
   "cell_type": "code",
   "execution_count": 128,
   "id": "dbeac004",
   "metadata": {},
   "outputs": [
    {
     "data": {
      "text/plain": [
       "<AxesSubplot:>"
      ]
     },
     "execution_count": 128,
     "metadata": {},
     "output_type": "execute_result"
    },
    {
     "data": {
      "image/png": "[encoded data removed]",
      "text/plain": [
       "<Figure size 900x600 with 1 Axes>"
      ]
     },
     "metadata": {},
     "output_type": "display_data"
    }
   ],
   "source": [
    "plt.figure(figsize=(9,6))\n",
    "mpg.avg_fe.hist()"
   ]
  },
  {
   "cell_type": "code",
   "execution_count": 127,
   "id": "2a0bbb78",
   "metadata": {},
   "outputs": [
    {
     "data": {
      "text/plain": [
       "(7.512360093161354, 7.808833174403837e-10)"
      ]
     },
     "execution_count": 127,
     "metadata": {},
     "output_type": "execute_result"
    }
   ],
   "source": [
    "t, p = stats.ttest_1samp(fe_compact, μ)\n",
    "t, p/2"
   ]
  },
  {
   "cell_type": "code",
   "execution_count": 129,
   "id": "e1da0ce8",
   "metadata": {},
   "outputs": [
    {
     "data": {
      "text/plain": [
       "23.500416808701296"
      ]
     },
     "execution_count": 129,
     "metadata": {},
     "output_type": "execute_result"
    }
   ],
   "source": [
    "fe_compact.mean()"
   ]
  },
  {
   "cell_type": "code",
   "execution_count": 130,
   "id": "178fb29d",
   "metadata": {
    "scrolled": true
   },
   "outputs": [
    {
     "data": {
      "text/plain": [
       "19.585525317633177"
      ]
     },
     "execution_count": 130,
     "metadata": {},
     "output_type": "execute_result"
    }
   ],
   "source": [
    "mpg.avg_fe.mean()"
   ]
  },
  {
   "cell_type": "code",
   "execution_count": 136,
   "id": "57992372",
   "metadata": {},
   "outputs": [
    {
     "name": "stdout",
     "output_type": "stream",
     "text": [
      "we reject the null hypothesis\n"
     ]
    }
   ],
   "source": [
    "if ((p/2) < a) and (t > 0):\n",
    "    print('we reject the null hypothesis')\n",
    "else: \n",
    "    print('we fail to reject the null hypothesis')"
   ]
  },
  {
   "cell_type": "markdown",
   "id": "d8bff7d2",
   "metadata": {},
   "source": [
    "    Do manual cars get better gas mileage than automatic cars?"
   ]
  },
  {
   "cell_type": "code",
   "execution_count": null,
   "id": "21e034ce",
   "metadata": {},
   "outputs": [],
   "source": [
    "     * One tail, two sample\n",
    "\n",
    "         $H_{0}$ : There is no dirrence in gas mileage between manual cars and automatic cars.\n",
    "\n",
    "         $H_{a}$ : There is a difference in gas mileage between manual cars and automatic cars."
   ]
  },
  {
   "cell_type": "code",
   "execution_count": 144,
   "id": "4c988f68",
   "metadata": {},
   "outputs": [],
   "source": [
    "fe_auto = mpg[mpg.trans.str.contains('auto')].avg_fe\n",
    "fe_manual = mpg[mpg.trans.str.contains('manual')].avg_fe"
   ]
  },
  {
   "cell_type": "code",
   "execution_count": 139,
   "id": "3aac3f07",
   "metadata": {},
   "outputs": [
    {
     "data": {
      "text/plain": [
       "1    22.212766\n",
       "4    24.705882\n",
       "5    19.809524\n",
       "7    21.600000\n",
       "9    19.512195\n",
       "Name: avg_fe, dtype: float64"
      ]
     },
     "execution_count": 139,
     "metadata": {},
     "output_type": "execute_result"
    }
   ],
   "source": [
    "fe_auto.head()"
   ]
  },
  {
   "cell_type": "code",
   "execution_count": 145,
   "id": "9cb1f54e",
   "metadata": {},
   "outputs": [
    {
     "data": {
      "text/plain": [
       "2     24.360000\n",
       "3     24.313725\n",
       "6     21.272727\n",
       "8     21.272727\n",
       "10    23.333333\n",
       "Name: avg_fe, dtype: float64"
      ]
     },
     "execution_count": 145,
     "metadata": {},
     "output_type": "execute_result"
    }
   ],
   "source": [
    "fe_manual.head()"
   ]
  },
  {
   "cell_type": "code",
   "execution_count": 149,
   "id": "d2dc67b4",
   "metadata": {
    "scrolled": true
   },
   "outputs": [
    {
     "data": {
      "text/plain": [
       "<AxesSubplot:>"
      ]
     },
     "execution_count": 149,
     "metadata": {},
     "output_type": "execute_result"
    },
    {
     "data": {
      "image/png": "[encoded data removed]",
      "text/plain": [
       "<Figure size 900x600 with 1 Axes>"
      ]
     },
     "metadata": {},
     "output_type": "display_data"
    }
   ],
   "source": [
    "plt.figure(figsize=(9,6))\n",
    "fe_auto.hist()"
   ]
  },
  {
   "cell_type": "code",
   "execution_count": 150,
   "id": "35b7f78c",
   "metadata": {},
   "outputs": [
    {
     "data": {
      "text/plain": [
       "<AxesSubplot:>"
      ]
     },
     "execution_count": 150,
     "metadata": {},
     "output_type": "execute_result"
    },
    {
     "data": {
      "image/png": "[encoded data removed]",
      "text/plain": [
       "<Figure size 900x600 with 1 Axes>"
      ]
     },
     "metadata": {},
     "output_type": "display_data"
    }
   ],
   "source": [
    "plt.figure(figsize=(9,6))\n",
    "fe_manual.hist()"
   ]
  },
  {
   "cell_type": "code",
   "execution_count": 146,
   "id": "15d83c57",
   "metadata": {},
   "outputs": [
    {
     "data": {
      "text/plain": [
       "LeveneResult(statistic=0.013901207169738269, pvalue=0.9062462281015493)"
      ]
     },
     "execution_count": 146,
     "metadata": {},
     "output_type": "execute_result"
    }
   ],
   "source": [
    "stats.levene(fe_auto, fe_manual)"
   ]
  },
  {
   "cell_type": "code",
   "execution_count": 153,
   "id": "e7ae43dd",
   "metadata": {},
   "outputs": [],
   "source": [
    "t, p = stats.ttest_ind(fe_manual, fe_auto)"
   ]
  },
  {
   "cell_type": "code",
   "execution_count": 154,
   "id": "cf3f90d1",
   "metadata": {},
   "outputs": [
    {
     "data": {
      "text/plain": [
       "(4.652577547151351, 2.7552323050220043e-06)"
      ]
     },
     "execution_count": 154,
     "metadata": {},
     "output_type": "execute_result"
    }
   ],
   "source": [
    "# manual cars give better gas mailage than auto cars\n",
    "# because t is positive. \n",
    "t, p/2 "
   ]
  },
  {
   "cell_type": "code",
   "execution_count": 151,
   "id": "08339c47",
   "metadata": {},
   "outputs": [],
   "source": [
    "mpg['transmission_type'] = np.where "
   ]
  }
 ],
 "metadata": {
  "kernelspec": {
   "display_name": "Python 3 (ipykernel)",
   "language": "python",
   "name": "python3"
  },
  "language_info": {
   "codemirror_mode": {
    "name": "ipython",
    "version": 3
   },
   "file_extension": ".py",
   "mimetype": "text/x-python",
   "name": "python",
   "nbconvert_exporter": "python",
   "pygments_lexer": "ipython3",
   "version": "3.9.13"
  }
 },
 "nbformat": 4,
 "nbformat_minor": 5
}
