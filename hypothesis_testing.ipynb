{
 "cells": [
  {
   "cell_type": "markdown",
   "id": "4a01a327",
   "metadata": {},
   "source": [
    "### Do your work for this exercise in a jupyter notebook named hypothesis_testing.ipynb.\n",
    "\n",
    "For each of the following questions, formulate a null and alternative hypothesis (be as specific as you can be), then give an example of what a true positive, true negative, type I and type II errors would look like. Note that some of the questions are intentionally phrased in a vague way. It is your job to reword these as more precise questions that could be tested.\n",
    "\n"
   ]
  },
  {
   "cell_type": "markdown",
   "id": "fbdf70a4",
   "metadata": {},
   "source": [
    "Has the network latency gone up since we switched internet service providers?\n"
   ]
  },
  {
   "cell_type": "markdown",
   "id": "566a98e5",
   "metadata": {},
   "source": [
    "Null Hypothesis (H0): The new internet service provider has no effect in the network's latency increase\n",
    "Alternative Hypothesis (Ha): The new internet service provider has effect the network's latency increase\n",
    "    \n",
    "                            Lantency Exists   Lantency doesn't exist\n",
    "Lantency was observed      # True positve   / # Type II error\n",
    "\n",
    "Lantency was not observed  # Type I error   / # True negative\n",
    "\n",
    "\n",
    "True Positive: If the study correctly detects that the new internet service provider has increased the network's latency, it would be a true positive.\n",
    "\n",
    "True Negative: If the study correctly concludes that the new internet service provider has no effect on the network's latency, it would be a true negative.\n",
    "\n",
    "Type I Error: If the study concludes that the new internet service provider has increased the network's latency when it actually hasn't, it would be a type I error. This is also known as a false positive.\n",
    "\n",
    "Type II Error: If the study concludes that the new internet service provider has no effect on the network's latency when it actually has, it would be a type II error. This is also known as a false negative.\n",
    "\n"
   ]
  },
  {
   "cell_type": "markdown",
   "id": "2d529139",
   "metadata": {},
   "source": [
    "Is the website redesign any good?\n"
   ]
  },
  {
   "cell_type": "code",
   "execution_count": null,
   "id": "eeecee3d",
   "metadata": {},
   "outputs": [],
   "source": [
    "Null Hypothesis (H0): There is no difference in the popularity of the redesign website compare to the old one. \n",
    "Alternative Hypothesis (Ha): There is a diference in popularity of the redesign website compare to the old one.\n",
    "\n",
    "    \n",
    "                              Popularity Exists   Popularity doesn't exist\n",
    "difference was observed       # True positve     / # Type II error\n",
    "\n",
    "difference was not observed   # Type I error     / # True negative"
   ]
  },
  {
   "cell_type": "markdown",
   "id": "e49568ca",
   "metadata": {},
   "source": [
    "Is our television ad driving more sales?"
   ]
  },
  {
   "cell_type": "code",
   "execution_count": null,
   "id": "b6ef7d6e",
   "metadata": {},
   "outputs": [],
   "source": [
    "Null Hypothesis (H0): The television ad is not driving more sales\n",
    "Alternative Hypothesis (Ha): The television as is driving more sales\n",
    "\n",
    "                                    More Sales Exists   More Sales don't exist\n",
    "ad increased sales was observed      # True positve       / # Type II error\n",
    "\n",
    "No increase in sales observed        # Type I error       / # True negative"
   ]
  }
 ],
 "metadata": {
  "kernelspec": {
   "display_name": "Python 3 (ipykernel)",
   "language": "python",
   "name": "python3"
  },
  "language_info": {
   "codemirror_mode": {
    "name": "ipython",
    "version": 3
   },
   "file_extension": ".py",
   "mimetype": "text/x-python",
   "name": "python",
   "nbconvert_exporter": "python",
   "pygments_lexer": "ipython3",
   "version": "3.9.13"
  }
 },
 "nbformat": 4,
 "nbformat_minor": 5
}
