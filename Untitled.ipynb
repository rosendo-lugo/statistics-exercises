{
 "cells": [
  {
   "cell_type": "code",
   "execution_count": 8,
   "id": "e1dd82f0",
   "metadata": {},
   "outputs": [
    {
     "name": "stdout",
     "output_type": "stream",
     "text": [
      "Range of GPAs for the third decile from the bottom of the class: (2.842679846187588, 3.2524863700718742)\n"
     ]
    }
   ],
   "source": [
    "import numpy as np\n",
    "from scipy.stats import norm\n",
    "\n",
    "# Set mean and standard deviation\n",
    "mean = 3.0\n",
    "sd = 0.3\n",
    "\n",
    "# Create normal distribution object\n",
    "grades_dist = norm(mean, sd)\n",
    "\n",
    "# Find lower bound of third decile\n",
    "lower_bound = grades_dist.ppf(0.3)\n",
    "\n",
    "# Find upper bound of second decile\n",
    "upper_bound = grades_dist.isf(0.2)\n",
    "\n",
    "# Calculate range of third decile\n",
    "decile_range = (lower_bound, upper_bound)\n",
    "\n",
    "print(\"Range of GPAs for the third decile from the bottom of the class:\", decile_range)\n",
    "\n"
   ]
  },
  {
   "cell_type": "code",
   "execution_count": 10,
   "id": "c91feeb0",
   "metadata": {},
   "outputs": [
    {
     "name": "stdout",
     "output_type": "stream",
     "text": [
      "Grades distribution: <scipy.stats._distn_infrastructure.rv_continuous_frozen object at 0x120405f70>\n",
      "10th percentile GPA: 2.7475136299281258\n",
      "30th percentile GPA: 2.842679846187588\n",
      "Range of GPAs for the third decile from the bottom of the class: (2.7475136299281258, 2.842679846187588)\n"
     ]
    }
   ],
   "source": [
    "mean = 3.0\n",
    "sd = 0.3\n",
    "\n",
    "grades_dist = stats.norm(mean, sd)\n",
    "print(\"Grades distribution:\", grades_dist)\n",
    "\n",
    "p10 = grades_dist.ppf(0.2)\n",
    "p30 = grades_dist.ppf(0.3)\n",
    "print(\"10th percentile GPA:\", p10)\n",
    "print(\"30th percentile GPA:\", p30)\n",
    "\n",
    "decile_range = (p10, p30)\n",
    "print(\"Range of GPAs for the third decile from the bottom of the class:\", decile_range)\n"
   ]
  },
  {
   "cell_type": "code",
   "execution_count": 11,
   "id": "ddd5f932",
   "metadata": {},
   "outputs": [
    {
     "name": "stdout",
     "output_type": "stream",
     "text": [
      "Range of GPAs for the third decile from the bottom of the class: (2.842679846187588, 3.2524863700718742)\n"
     ]
    }
   ],
   "source": [
    "import numpy as np\n",
    "from scipy.stats import norm\n",
    "\n",
    "# Set mean and standard deviation\n",
    "mean = 3.0\n",
    "sd = 0.3\n",
    "\n",
    "# Create normal distribution object\n",
    "grades_dist = norm(mean, sd)\n",
    "\n",
    "# Find lower bound of third decile\n",
    "lower_bound = grades_dist.ppf(0.3)\n",
    "\n",
    "# Find upper bound of second decile\n",
    "upper_bound = grades_dist.isf(0.2)\n",
    "\n",
    "# Calculate range of third decile\n",
    "decile_range = (lower_bound, upper_bound)\n",
    "\n",
    "print(\"Range of GPAs for the third decile from the bottom of the class:\", decile_range)\n"
   ]
  }
 ],
 "metadata": {
  "kernelspec": {
   "display_name": "Python 3 (ipykernel)",
   "language": "python",
   "name": "python3"
  },
  "language_info": {
   "codemirror_mode": {
    "name": "ipython",
    "version": 3
   },
   "file_extension": ".py",
   "mimetype": "text/x-python",
   "name": "python",
   "nbconvert_exporter": "python",
   "pygments_lexer": "ipython3",
   "version": "3.9.13"
  }
 },
 "nbformat": 4,
 "nbformat_minor": 5
}
